{
 "cells": [
  {
   "cell_type": "code",
   "execution_count": 5,
   "id": "5d0f20cf",
   "metadata": {},
   "outputs": [
    {
     "name": "stdout",
     "output_type": "stream",
     "text": [
      "Requirement already satisfied: autoscraper in c:\\users\\muthu\\anaconda3\\lib\\site-packages (1.1.14)\n",
      "Requirement already satisfied: bs4 in c:\\users\\muthu\\anaconda3\\lib\\site-packages (from autoscraper) (0.0.1)\n",
      "Requirement already satisfied: lxml in c:\\users\\muthu\\anaconda3\\lib\\site-packages (from autoscraper) (4.9.1)\n",
      "Requirement already satisfied: requests in c:\\users\\muthu\\anaconda3\\lib\\site-packages (from autoscraper) (2.28.1)\n",
      "Requirement already satisfied: beautifulsoup4 in c:\\users\\muthu\\anaconda3\\lib\\site-packages (from bs4->autoscraper) (4.11.1)\n",
      "Requirement already satisfied: idna<4,>=2.5 in c:\\users\\muthu\\anaconda3\\lib\\site-packages (from requests->autoscraper) (3.3)\n",
      "Requirement already satisfied: charset-normalizer<3,>=2 in c:\\users\\muthu\\anaconda3\\lib\\site-packages (from requests->autoscraper) (2.0.4)\n",
      "Requirement already satisfied: urllib3<1.27,>=1.21.1 in c:\\users\\muthu\\anaconda3\\lib\\site-packages (from requests->autoscraper) (1.26.11)\n",
      "Requirement already satisfied: certifi>=2017.4.17 in c:\\users\\muthu\\anaconda3\\lib\\site-packages (from requests->autoscraper) (2022.9.14)\n",
      "Requirement already satisfied: soupsieve>1.2 in c:\\users\\muthu\\anaconda3\\lib\\site-packages (from beautifulsoup4->bs4->autoscraper) (2.3.1)\n"
     ]
    }
   ],
   "source": [
    "!pip install autoscraper"
   ]
  },
  {
   "cell_type": "code",
   "execution_count": 4,
   "id": "99f32c0e",
   "metadata": {},
   "outputs": [
    {
     "name": "stdout",
     "output_type": "stream",
     "text": [
      "Requirement already satisfied: autoscraper in c:\\users\\muthu\\anaconda3\\lib\\site-packages (1.1.14)\n",
      "Requirement already satisfied: requests in c:\\users\\muthu\\anaconda3\\lib\\site-packages (from autoscraper) (2.28.1)\n",
      "Requirement already satisfied: lxml in c:\\users\\muthu\\anaconda3\\lib\\site-packages (from autoscraper) (4.9.1)\n",
      "Requirement already satisfied: bs4 in c:\\users\\muthu\\anaconda3\\lib\\site-packages (from autoscraper) (0.0.1)\n",
      "Requirement already satisfied: beautifulsoup4 in c:\\users\\muthu\\anaconda3\\lib\\site-packages (from bs4->autoscraper) (4.11.1)\n",
      "Requirement already satisfied: urllib3<1.27,>=1.21.1 in c:\\users\\muthu\\anaconda3\\lib\\site-packages (from requests->autoscraper) (1.26.11)\n",
      "Requirement already satisfied: charset-normalizer<3,>=2 in c:\\users\\muthu\\anaconda3\\lib\\site-packages (from requests->autoscraper) (2.0.4)\n",
      "Requirement already satisfied: certifi>=2017.4.17 in c:\\users\\muthu\\anaconda3\\lib\\site-packages (from requests->autoscraper) (2022.9.14)\n",
      "Requirement already satisfied: idna<4,>=2.5 in c:\\users\\muthu\\anaconda3\\lib\\site-packages (from requests->autoscraper) (3.3)\n",
      "Requirement already satisfied: soupsieve>1.2 in c:\\users\\muthu\\anaconda3\\lib\\site-packages (from beautifulsoup4->bs4->autoscraper) (2.3.1)\n"
     ]
    }
   ],
   "source": [
    "!pip install autoscraper\n"
   ]
  },
  {
   "cell_type": "code",
   "execution_count": 6,
   "id": "82361452",
   "metadata": {},
   "outputs": [],
   "source": [
    "from autoscraper import AutoScraper\n"
   ]
  },
  {
   "cell_type": "code",
   "execution_count": 7,
   "id": "bcafc7fc",
   "metadata": {},
   "outputs": [],
   "source": [
    "amazon_url=\"https://www.amazon.in/s?k=ssd&i=electronics&crid=3K1EWJWFTHWC7&sprefix=%2Celectronics%2C188&ref=nb_sb_ss_recent_2_0_recent\"\n",
    "title = [\"6,760\",\"Crucial P5 Plus 500GB PCIe 4.0 3D NAND NVMe M.2 SSD, up to 6600MB/s - CT500P5PSSD8\",\"5,661\"]"
   ]
  },
  {
   "cell_type": "code",
   "execution_count": 8,
   "id": "07938bdf",
   "metadata": {
    "scrolled": true
   },
   "outputs": [
    {
     "name": "stdout",
     "output_type": "stream",
     "text": [
      "['9,150', '6,760', '3,789', '3,559', '3,998', '18,999', 'Crucial X8 1TB Portable SSD – Up to 1050MB/s – USB 3.2 – External Solid State Drive, USB-C, USB-A – CT1000X8SSD9', 'Crucial P5 Plus 500GB PCIe 4.0 3D NAND NVMe M.2 SSD, up to 6600MB/s - CT500P5PSSD8', 'Western Digital WD Blue \\x84¢ SN570 NVMe \\x84¢ 500GB SSD, Upto 3, 500 MB/s Read, with Free 1 Month Adobe Creative Cloud Subscription', 'Western Digital WD Blue\\x99 SA510 SATA SSD Internal Storage, 500GBfor Performance Upgrade and Content Creators', 'Toshiba Canvio Basics 1TB Portable External HDD - USB 3.2 for PC Laptop Windows and Mac, 3 Years Warranty, External Hard Drive - Black', 'Seagate Expansion 2 TB External SSD up to 1000 MB/s – USB-C and USB 3.0 for PC, Laptop and Mac, 3 yr Data Recovery Services, Portable Solid State Drive (STLH2000400)', '6,951', '5,661', '12,987', '14,960', '5,525', '204']\n"
     ]
    }
   ],
   "source": [
    "scraper = AutoScraper()\n",
    "result = scraper.build(amazon_url,title)\n",
    "print(result)"
   ]
  },
  {
   "cell_type": "code",
   "execution_count": 9,
   "id": "2d2b5890",
   "metadata": {},
   "outputs": [
    {
     "data": {
      "text/plain": [
       "{'rule_mqk5': ['9,150', '6,760', '3,789', '3,559', '3,998', '18,999'],\n",
       " 'rule_twvh': ['Crucial X8 1TB Portable SSD – Up to 1050MB/s – USB 3.2 – External Solid State Drive, USB-C, USB-A – CT1000X8SSD9',\n",
       "  'Crucial P5 Plus 500GB PCIe 4.0 3D NAND NVMe M.2 SSD, up to 6600MB/s - CT500P5PSSD8',\n",
       "  'Western Digital WD Blue \\x84¢ SN570 NVMe \\x84¢ 500GB SSD, Upto 3, 500 MB/s Read, with Free 1 Month Adobe Creative Cloud Subscription',\n",
       "  'Western Digital WD Blue\\x99 SA510 SATA SSD Internal Storage, 500GBfor Performance Upgrade and Content Creators',\n",
       "  'Toshiba Canvio Basics 1TB Portable External HDD - USB 3.2 for PC Laptop Windows and Mac, 3 Years Warranty, External Hard Drive - Black',\n",
       "  'Seagate Expansion 2 TB External SSD up to 1000 MB/s – USB-C and USB 3.0 for PC, Laptop and Mac, 3 yr Data Recovery Services, Portable Solid State Drive (STLH2000400)'],\n",
       " 'rule_yedn': ['6,951', '5,661', '12,987', '14,960', '5,525', '204']}"
      ]
     },
     "execution_count": 9,
     "metadata": {},
     "output_type": "execute_result"
    }
   ],
   "source": [
    "scraper.get_result_similar(amazon_url,grouped=True)"
   ]
  },
  {
   "cell_type": "code",
   "execution_count": null,
   "id": "1d43bcc6",
   "metadata": {},
   "outputs": [],
   "source": [
    "scraper.set_rule_aliases({\"rule_bozr\":\"titlee\"})\n",
    "scraper.keep_rules([\"rule_bozr\"])\n",
    "scraper.save(\"amazon-search\")"
   ]
  },
  {
   "cell_type": "code",
   "execution_count": 10,
   "id": "f33c4255",
   "metadata": {},
   "outputs": [
    {
     "data": {
      "text/plain": [
       "{'': ['Luminous Zelio+ 1100 Home Pure Sinewave Inverter UPS - Black',\n",
       "  '8,583',\n",
       "  '6,599',\n",
       "  'Luminous Zolt 1100 Sine Wave Inverter for Home, Office & Shops (Blue)',\n",
       "  '2,318',\n",
       "  '6,798',\n",
       "  'Luminous Eco Volt Neo 1050 Sine Wave Inverter for Home, Office and Shops (Blue)',\n",
       "  '274',\n",
       "  '5,799',\n",
       "  'Luminous Hercules Sine 1500 - Pure Sine Wave Inverter for Home & Office, Runs Heavy Load on Single Battery (Blue), Standard',\n",
       "  '75',\n",
       "  '9,653',\n",
       "  'Luminous iCruze 3000 2.8 KVA 2240W Pure Sine Wave Super Inverter for Home, Office, and Shops (Dark Blue)',\n",
       "  '32',\n",
       "  '17,899',\n",
       "  'Luminous Power Sine 800 700VA Pure Sine Wave Inverter for Home, Office, and Shops (Blue)',\n",
       "  '515',\n",
       "  '4,599']}"
      ]
     },
     "execution_count": 10,
     "metadata": {},
     "output_type": "execute_result"
    }
   ],
   "source": [
    "scraper.get_result_similar(\"https://www.amazon.in/s?k=inverter&crid=32BR028TC0TR7&sprefix=%2Caps%2C190&ref=nb_sb_ss_recent_4_0_recent\", group_by_alias=True)"
   ]
  },
  {
   "cell_type": "code",
   "execution_count": null,
   "id": "03e401ff",
   "metadata": {},
   "outputs": [],
   "source": []
  },
  {
   "cell_type": "code",
   "execution_count": null,
   "id": "092090c8",
   "metadata": {},
   "outputs": [],
   "source": []
  }
 ],
 "metadata": {
  "kernelspec": {
   "display_name": "Python 3 (ipykernel)",
   "language": "python",
   "name": "python3"
  },
  "language_info": {
   "codemirror_mode": {
    "name": "ipython",
    "version": 3
   },
   "file_extension": ".py",
   "mimetype": "text/x-python",
   "name": "python",
   "nbconvert_exporter": "python",
   "pygments_lexer": "ipython3",
   "version": "3.9.13"
  }
 },
 "nbformat": 4,
 "nbformat_minor": 5
}
